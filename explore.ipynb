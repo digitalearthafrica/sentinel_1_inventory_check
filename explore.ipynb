{
 "cells": [
  {
   "cell_type": "code",
   "execution_count": 1,
   "id": "offensive-seeker",
   "metadata": {},
   "outputs": [],
   "source": [
    "import pandas as pd"
   ]
  },
  {
   "cell_type": "code",
   "execution_count": 5,
   "id": "existing-sample",
   "metadata": {},
   "outputs": [],
   "source": [
    "list = pd.read_csv(\"sentinel-1.list\", header=None, names=[\"objects\"])\n",
    "list['path'] = list.objects.str[25:58]\n",
    "counted = list.value_counts(subset=['path']).to_frame('counts')"
   ]
  },
  {
   "cell_type": "code",
   "execution_count": 8,
   "id": "owned-pixel",
   "metadata": {},
   "outputs": [],
   "source": [
    "bad_scenes = counted[counted.counts<8]"
   ]
  },
  {
   "cell_type": "code",
   "execution_count": 7,
   "id": "decreased-jacksonville",
   "metadata": {},
   "outputs": [],
   "source": [
    "bad_scenes.to_csv('missing-data.txt')"
   ]
  },
  {
   "cell_type": "code",
   "execution_count": 9,
   "id": "expected-bundle",
   "metadata": {},
   "outputs": [
    {
     "output_type": "execute_result",
     "data": {
      "text/plain": [
       "counts\n",
       "2         65489\n",
       "6         54439\n",
       "7           118\n",
       "5            76\n",
       "3            67\n",
       "4            65\n",
       "dtype: int64"
      ]
     },
     "metadata": {},
     "execution_count": 9
    }
   ],
   "source": [
    "bad_scenes.value_counts(subset=[\"counts\"])"
   ]
  },
  {
   "cell_type": "code",
   "execution_count": null,
   "metadata": {},
   "outputs": [],
   "source": []
  }
 ],
 "metadata": {
  "kernelspec": {
   "display_name": "Python 3",
   "language": "python",
   "name": "python3"
  },
  "language_info": {
   "codemirror_mode": {
    "name": "ipython",
    "version": 3
   },
   "file_extension": ".py",
   "mimetype": "text/x-python",
   "name": "python",
   "nbconvert_exporter": "python",
   "pygments_lexer": "ipython3",
   "version": "3.9.2-final"
  }
 },
 "nbformat": 4,
 "nbformat_minor": 5
}