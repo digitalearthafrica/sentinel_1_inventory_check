{
 "metadata": {
  "language_info": {
   "codemirror_mode": {
    "name": "ipython",
    "version": 3
   },
   "file_extension": ".py",
   "mimetype": "text/x-python",
   "name": "python",
   "nbconvert_exporter": "python",
   "pygments_lexer": "ipython3",
   "version": "3.9.2"
  },
  "orig_nbformat": 2,
  "kernelspec": {
   "name": "python3",
   "display_name": "Python 3",
   "language": "python"
  }
 },
 "nbformat": 4,
 "nbformat_minor": 2,
 "cells": [
  {
   "cell_type": "code",
   "execution_count": 37,
   "metadata": {},
   "outputs": [],
   "source": [
    "import boto3\n",
    "from botocore.config import Config\n",
    "import pandas as pd\n",
    "\n",
    "SOURCE_BUCKET = \"deafrica-sentinel-1-staging-frankfurt\""
   ]
  },
  {
   "cell_type": "code",
   "execution_count": 49,
   "metadata": {},
   "outputs": [],
   "source": [
    "paths = set(pd.read_csv(\"missing-data.txt\").path)"
   ]
  },
  {
   "cell_type": "code",
   "execution_count": 51,
   "metadata": {},
   "outputs": [
    {
     "output_type": "stream",
     "name": "stdout",
     "text": [
      "s1_rtc/S09E011/2020/05/24/03C9B1/\n"
     ]
    }
   ],
   "source": [
    "for path in paths:\n",
    "    print(path)\n",
    "    break"
   ]
  },
  {
   "cell_type": "code",
   "execution_count": 31,
   "metadata": {},
   "outputs": [],
   "source": [
    "my_config = Config(region_name='eu-central-1')\n",
    "s3 = boto3.client(\"s3\", config=my_config)\n",
    "s3r = boto3.resource('s3', config=my_config)\n",
    "bucket = s3r.Bucket(SOURCE_BUCKET)"
   ]
  },
  {
   "cell_type": "code",
   "execution_count": 24,
   "metadata": {},
   "outputs": [
    {
     "output_type": "execute_result",
     "data": {
      "text/plain": [
       "{'s1_rtc/N31E004/2020/01/23/025B80/s1_rtc_025B80_N31E004_2020_01_23_ANGLE.tif': 'vEPZzJwqVtycKlFj8eB2fv8fKYQnwypk',\n",
       " 's1_rtc/N31E004/2020/01/23/025B80/s1_rtc_025B80_N31E004_2020_01_23_AREA.tif': 'vEPZzJwqVtycKlFj8eB2fv8fKYQnwypk',\n",
       " 's1_rtc/N31E004/2020/01/23/025B80/s1_rtc_025B80_N31E004_2020_01_23_MASK.tif': 'vEPZzJwqVtycKlFj8eB2fv8fKYQnwypk',\n",
       " 's1_rtc/N31E004/2020/01/23/025B80/s1_rtc_025B80_N31E004_2020_01_23_VH.tif': 'vEPZzJwqVtycKlFj8eB2fv8fKYQnwypk',\n",
       " 's1_rtc/N31E004/2020/01/23/025B80/s1_rtc_025B80_N31E004_2020_01_23_VV.tif': 'vEPZzJwqVtycKlFj8eB2fv8fKYQnwypk',\n",
       " 's1_rtc/N31E004/2020/01/23/025B80/s1_rtc_025B80_N31E004_2020_01_23_metadata.json': 'EDle7fCRThw5KyFoTgjOd7EK0ib4A0Sa',\n",
       " 's1_rtc/N31E004/2020/01/23/025B80/s1_rtc_025B80_N31E004_2020_01_23_metadata.xml': 'EDle7fCRThw5KyFoTgjOd7EK0ib4A0Sa',\n",
       " 's1_rtc/N31E004/2020/01/23/025B80/s1_rtc_025B80_N31E004_2020_01_23_userdata.json': 'vEPZzJwqVtycKlFj8eB2fv8fKYQnwypk'}"
      ]
     },
     "metadata": {},
     "execution_count": 24
    }
   ],
   "source": [
    "resp = s3.list_object_versions(Bucket=SOURCE_BUCKET, Prefix=path)\n",
    "del_markers = {item['Key']: item['VersionId'] for item in resp['DeleteMarkers'] if item['IsLatest'] == True}"
   ]
  },
  {
   "cell_type": "code",
   "execution_count": 30,
   "metadata": {},
   "outputs": [
    {
     "output_type": "stream",
     "name": "stdout",
     "text": [
      "s1_rtc/N31E004/2020/01/23/025B80/s1_rtc_025B80_N31E004_2020_01_23_ANGLE.tif\n",
      "s3.Object(bucket_name='deafrica-sentinel-1-staging-frankfurt', key='s1_rtc/N31E004/2020/01/23/025B80/s1_rtc_025B80_N31E004_2020_01_23_ANGLE.tif')\n",
      "s1_rtc/N31E004/2020/01/23/025B80/s1_rtc_025B80_N31E004_2020_01_23_AREA.tif\n",
      "s3.Object(bucket_name='deafrica-sentinel-1-staging-frankfurt', key='s1_rtc/N31E004/2020/01/23/025B80/s1_rtc_025B80_N31E004_2020_01_23_AREA.tif')\n",
      "s1_rtc/N31E004/2020/01/23/025B80/s1_rtc_025B80_N31E004_2020_01_23_MASK.tif\n",
      "s3.Object(bucket_name='deafrica-sentinel-1-staging-frankfurt', key='s1_rtc/N31E004/2020/01/23/025B80/s1_rtc_025B80_N31E004_2020_01_23_MASK.tif')\n",
      "s1_rtc/N31E004/2020/01/23/025B80/s1_rtc_025B80_N31E004_2020_01_23_VH.tif\n",
      "s3.Object(bucket_name='deafrica-sentinel-1-staging-frankfurt', key='s1_rtc/N31E004/2020/01/23/025B80/s1_rtc_025B80_N31E004_2020_01_23_VH.tif')\n",
      "s1_rtc/N31E004/2020/01/23/025B80/s1_rtc_025B80_N31E004_2020_01_23_VV.tif\n",
      "s3.Object(bucket_name='deafrica-sentinel-1-staging-frankfurt', key='s1_rtc/N31E004/2020/01/23/025B80/s1_rtc_025B80_N31E004_2020_01_23_VV.tif')\n",
      "s1_rtc/N31E004/2020/01/23/025B80/s1_rtc_025B80_N31E004_2020_01_23_metadata.json\n",
      "s3.Object(bucket_name='deafrica-sentinel-1-staging-frankfurt', key='s1_rtc/N31E004/2020/01/23/025B80/s1_rtc_025B80_N31E004_2020_01_23_metadata.json')\n",
      "s1_rtc/N31E004/2020/01/23/025B80/s1_rtc_025B80_N31E004_2020_01_23_metadata.xml\n",
      "s3.Object(bucket_name='deafrica-sentinel-1-staging-frankfurt', key='s1_rtc/N31E004/2020/01/23/025B80/s1_rtc_025B80_N31E004_2020_01_23_metadata.xml')\n",
      "s1_rtc/N31E004/2020/01/23/025B80/s1_rtc_025B80_N31E004_2020_01_23_userdata.json\n",
      "s3.Object(bucket_name='deafrica-sentinel-1-staging-frankfurt', key='s1_rtc/N31E004/2020/01/23/025B80/s1_rtc_025B80_N31E004_2020_01_23_userdata.json')\n"
     ]
    }
   ],
   "source": [
    "for key, version in del_markers.items():\n",
    "    object = bucket.Object(key)\n",
    "    object.delete(VersionId=version)\n",
    "\n",
    "    s3r.Object(SOURCE_BUCKET, key).copy_from(\n",
    "        CopySource=f'{SOURCE_BUCKET}/{key}',\n",
    "        MetadataDirective='REPLACE'\n",
    "    )"
   ]
  },
  {
   "cell_type": "code",
   "execution_count": 35,
   "metadata": {},
   "outputs": [
    {
     "output_type": "execute_result",
     "data": {
      "text/plain": [
       "{'ResponseMetadata': {'RequestId': '0VEK9FMVDFM39407',\n",
       "  'HostId': '8+V+aD+kLFgX+AiovyEpFOYhJzFMcakOhdJ3KCG3O/FWTKdxVapWyQGD7hDWIL3V3MopYW/jB5k=',\n",
       "  'HTTPStatusCode': 200,\n",
       "  'HTTPHeaders': {'x-amz-id-2': '8+V+aD+kLFgX+AiovyEpFOYhJzFMcakOhdJ3KCG3O/FWTKdxVapWyQGD7hDWIL3V3MopYW/jB5k=',\n",
       "   'x-amz-request-id': '0VEK9FMVDFM39407',\n",
       "   'date': 'Thu, 06 May 2021 04:35:53 GMT',\n",
       "   'x-amz-copy-source-version-id': 'kyA2FiLZfx.7Yaw_hDaXmbCP2SY_SUjw',\n",
       "   'x-amz-version-id': 'hFPyPsQHyjLmAXr76gwzOWjJIWP8b4Nr',\n",
       "   'x-amz-expiration': 'expiry-date=\"Fri, 14 May 2021 00:00:00 GMT\", rule-id=\"Delete marker at 7 days and delete object at 14 days MANUAL\"',\n",
       "   'content-type': 'application/xml',\n",
       "   'content-length': '234',\n",
       "   'server': 'AmazonS3'},\n",
       "  'RetryAttempts': 0},\n",
       " 'Expiration': 'expiry-date=\"Fri, 14 May 2021 00:00:00 GMT\", rule-id=\"Delete marker at 7 days and delete object at 14 days MANUAL\"',\n",
       " 'CopySourceVersionId': 'kyA2FiLZfx.7Yaw_hDaXmbCP2SY_SUjw',\n",
       " 'VersionId': 'hFPyPsQHyjLmAXr76gwzOWjJIWP8b4Nr',\n",
       " 'CopyObjectResult': {'ETag': '\"b8a447770b6361b99b845028d27403d2\"',\n",
       "  'LastModified': datetime.datetime(2021, 5, 6, 4, 35, 53, tzinfo=tzutc())}}"
      ]
     },
     "metadata": {},
     "execution_count": 35
    }
   ],
   "source": [
    "s3r.Object(SOURCE_BUCKET,'s1_rtc/N31E004/2020/01/23/025B80/s1_rtc_025B80_N31E004_2020_01_23_userdata.json').copy_from(CopySource=f'{SOURCE_BUCKET}/s1_rtc/N31E004/2020/01/23/025B80/s1_rtc_025B80_N31E004_2020_01_23_userdata.json', MetadataDirective='REPLACE')\n"
   ]
  },
  {
   "cell_type": "code",
   "execution_count": null,
   "metadata": {},
   "outputs": [],
   "source": []
  }
 ]
}